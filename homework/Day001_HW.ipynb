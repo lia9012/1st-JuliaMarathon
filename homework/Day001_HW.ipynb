{
 "cells": [
  {
   "cell_type": "code",
   "execution_count": 1,
   "metadata": {},
   "outputs": [
    {
     "name": "stdout",
     "output_type": "stream",
     "text": [
      "Julia Version 1.3.1\n",
      "Commit 2d5741174c (2019-12-30 21:36 UTC)\n",
      "Platform Info:\n",
      "  OS: Windows (x86_64-w64-mingw32)\n",
      "  CPU: Intel(R) Core(TM) i7-9750H CPU @ 2.60GHz\n",
      "  WORD_SIZE: 64\n",
      "  LIBM: libopenlibm\n",
      "  LLVM: libLLVM-6.0.1 (ORCJIT, skylake)\n"
     ]
    }
   ],
   "source": [
    "versioninfo()"
   ]
  },
  {
   "cell_type": "code",
   "execution_count": 2,
   "metadata": {},
   "outputs": [
    {
     "name": "stdout",
     "output_type": "stream",
     "text": [
      "Hello Julia\n"
     ]
    }
   ],
   "source": [
    "println(\"Hello Julia\")"
   ]
  },
  {
   "cell_type": "code",
   "execution_count": 3,
   "metadata": {},
   "outputs": [
    {
     "data": {
      "text/plain": [
       "Dict{String,Union{Nothing, VersionNumber}} with 2 entries:\n",
       "  \"IJulia\" => v\"1.21.1\"\n",
       "  \"PyCall\" => v\"1.91.4\""
      ]
     },
     "execution_count": 3,
     "metadata": {},
     "output_type": "execute_result"
    }
   ],
   "source": [
    "using Pkg\n",
    "Pkg.installed()"
   ]
  },
  {
   "cell_type": "code",
   "execution_count": 4,
   "metadata": {},
   "outputs": [
    {
     "name": "stdout",
     "output_type": "stream",
     "text": [
      "\u001b[32m\u001b[1m  Updating\u001b[22m\u001b[39m registry at `C:\\Users\\Nina\\.julia\\registries\\General`\n",
      "\u001b[32m\u001b[1m  Updating\u001b[22m\u001b[39m git-repo `https://github.com/JuliaRegistries/General.git`\n",
      "\u001b[2K\u001b[36m\u001b[1mFetching:\u001b[22m\u001b[39m [========================================>]  100.0 %.0 %\u001b[?25h\u001b[32m\u001b[1m Resolving\u001b[22m\u001b[39m package versions...\n",
      "\u001b[32m\u001b[1m Installed\u001b[22m\u001b[39m PooledArrays ──────────────── v0.5.3\n",
      "\u001b[32m\u001b[1m Installed\u001b[22m\u001b[39m InvertedIndices ───────────── v1.0.0\n",
      "\u001b[32m\u001b[1m Installed\u001b[22m\u001b[39m Missings ──────────────────── v0.4.3\n",
      "\u001b[32m\u001b[1m Installed\u001b[22m\u001b[39m TableTraits ───────────────── v1.0.0\n",
      "\u001b[32m\u001b[1m Installed\u001b[22m\u001b[39m Compat ────────────────────── v3.8.0\n",
      "\u001b[32m\u001b[1m Installed\u001b[22m\u001b[39m Reexport ──────────────────── v0.2.0\n",
      "\u001b[32m\u001b[1m Installed\u001b[22m\u001b[39m DataStructures ────────────── v0.17.11\n",
      "\u001b[32m\u001b[1m Installed\u001b[22m\u001b[39m DataFrames ────────────────── v0.20.2\n",
      "\u001b[32m\u001b[1m Installed\u001b[22m\u001b[39m IteratorInterfaceExtensions ─ v1.0.0\n",
      "\u001b[32m\u001b[1m Installed\u001b[22m\u001b[39m DataValueInterfaces ───────── v1.0.0\n",
      "\u001b[32m\u001b[1m Installed\u001b[22m\u001b[39m DataAPI ───────────────────── v1.1.0\n",
      "\u001b[32m\u001b[1m Installed\u001b[22m\u001b[39m Tables ────────────────────── v1.0.3\n",
      "\u001b[32m\u001b[1m Installed\u001b[22m\u001b[39m OrderedCollections ────────── v1.1.0\n",
      "\u001b[32m\u001b[1m Installed\u001b[22m\u001b[39m SortingAlgorithms ─────────── v0.3.1\n",
      "\u001b[32m\u001b[1m Installed\u001b[22m\u001b[39m CategoricalArrays ─────────── v0.7.7\n",
      "\u001b[32m\u001b[1m  Updating\u001b[22m\u001b[39m `C:\\Users\\Nina\\.julia\\environments\\v1.3\\Project.toml`\n",
      " \u001b[90m [a93c6f00]\u001b[39m\u001b[92m + DataFrames v0.20.2\u001b[39m\n",
      "\u001b[32m\u001b[1m  Updating\u001b[22m\u001b[39m `C:\\Users\\Nina\\.julia\\environments\\v1.3\\Manifest.toml`\n",
      " \u001b[90m [324d7699]\u001b[39m\u001b[92m + CategoricalArrays v0.7.7\u001b[39m\n",
      " \u001b[90m [34da2185]\u001b[39m\u001b[92m + Compat v3.8.0\u001b[39m\n",
      " \u001b[90m [9a962f9c]\u001b[39m\u001b[92m + DataAPI v1.1.0\u001b[39m\n",
      " \u001b[90m [a93c6f00]\u001b[39m\u001b[92m + DataFrames v0.20.2\u001b[39m\n",
      " \u001b[90m [864edb3b]\u001b[39m\u001b[92m + DataStructures v0.17.11\u001b[39m\n",
      " \u001b[90m [e2d170a0]\u001b[39m\u001b[92m + DataValueInterfaces v1.0.0\u001b[39m\n",
      " \u001b[90m [41ab1584]\u001b[39m\u001b[92m + InvertedIndices v1.0.0\u001b[39m\n",
      " \u001b[90m [82899510]\u001b[39m\u001b[92m + IteratorInterfaceExtensions v1.0.0\u001b[39m\n",
      " \u001b[90m [e1d29d7a]\u001b[39m\u001b[92m + Missings v0.4.3\u001b[39m\n",
      " \u001b[90m [bac558e1]\u001b[39m\u001b[92m + OrderedCollections v1.1.0\u001b[39m\n",
      " \u001b[90m [2dfb63ee]\u001b[39m\u001b[92m + PooledArrays v0.5.3\u001b[39m\n",
      " \u001b[90m [189a3867]\u001b[39m\u001b[92m + Reexport v0.2.0\u001b[39m\n",
      " \u001b[90m [a2af1166]\u001b[39m\u001b[92m + SortingAlgorithms v0.3.1\u001b[39m\n",
      " \u001b[90m [3783bdb8]\u001b[39m\u001b[92m + TableTraits v1.0.0\u001b[39m\n",
      " \u001b[90m [bd369af6]\u001b[39m\u001b[92m + Tables v1.0.3\u001b[39m\n",
      " \u001b[90m [8bb1440f]\u001b[39m\u001b[92m + DelimitedFiles \u001b[39m\n",
      " \u001b[90m [9fa8497b]\u001b[39m\u001b[92m + Future \u001b[39m\n",
      " \u001b[90m [1a1011a3]\u001b[39m\u001b[92m + SharedArrays \u001b[39m\n",
      " \u001b[90m [2f01184e]\u001b[39m\u001b[92m + SparseArrays \u001b[39m\n",
      " \u001b[90m [10745b16]\u001b[39m\u001b[92m + Statistics \u001b[39m\n"
     ]
    }
   ],
   "source": [
    "Pkg.add(\"DataFrames\")"
   ]
  },
  {
   "cell_type": "code",
   "execution_count": 5,
   "metadata": {},
   "outputs": [
    {
     "name": "stdout",
     "output_type": "stream",
     "text": [
      "\u001b[32m\u001b[1m  Updating\u001b[22m\u001b[39m `C:\\Users\\Nina\\.julia\\environments\\v1.3\\Project.toml`\n",
      " \u001b[90m [a93c6f00]\u001b[39m\u001b[91m - DataFrames v0.20.2\u001b[39m\n",
      "\u001b[32m\u001b[1m  Updating\u001b[22m\u001b[39m `C:\\Users\\Nina\\.julia\\environments\\v1.3\\Manifest.toml`\n",
      " \u001b[90m [324d7699]\u001b[39m\u001b[91m - CategoricalArrays v0.7.7\u001b[39m\n",
      " \u001b[90m [34da2185]\u001b[39m\u001b[91m - Compat v3.8.0\u001b[39m\n",
      " \u001b[90m [9a962f9c]\u001b[39m\u001b[91m - DataAPI v1.1.0\u001b[39m\n",
      " \u001b[90m [a93c6f00]\u001b[39m\u001b[91m - DataFrames v0.20.2\u001b[39m\n",
      " \u001b[90m [864edb3b]\u001b[39m\u001b[91m - DataStructures v0.17.11\u001b[39m\n",
      " \u001b[90m [e2d170a0]\u001b[39m\u001b[91m - DataValueInterfaces v1.0.0\u001b[39m\n",
      " \u001b[90m [41ab1584]\u001b[39m\u001b[91m - InvertedIndices v1.0.0\u001b[39m\n",
      " \u001b[90m [82899510]\u001b[39m\u001b[91m - IteratorInterfaceExtensions v1.0.0\u001b[39m\n",
      " \u001b[90m [e1d29d7a]\u001b[39m\u001b[91m - Missings v0.4.3\u001b[39m\n",
      " \u001b[90m [bac558e1]\u001b[39m\u001b[91m - OrderedCollections v1.1.0\u001b[39m\n",
      " \u001b[90m [2dfb63ee]\u001b[39m\u001b[91m - PooledArrays v0.5.3\u001b[39m\n",
      " \u001b[90m [189a3867]\u001b[39m\u001b[91m - Reexport v0.2.0\u001b[39m\n",
      " \u001b[90m [a2af1166]\u001b[39m\u001b[91m - SortingAlgorithms v0.3.1\u001b[39m\n",
      " \u001b[90m [3783bdb8]\u001b[39m\u001b[91m - TableTraits v1.0.0\u001b[39m\n",
      " \u001b[90m [bd369af6]\u001b[39m\u001b[91m - Tables v1.0.3\u001b[39m\n",
      " \u001b[90m [8bb1440f]\u001b[39m\u001b[91m - DelimitedFiles \u001b[39m\n",
      " \u001b[90m [9fa8497b]\u001b[39m\u001b[91m - Future \u001b[39m\n",
      " \u001b[90m [1a1011a3]\u001b[39m\u001b[91m - SharedArrays \u001b[39m\n",
      " \u001b[90m [2f01184e]\u001b[39m\u001b[91m - SparseArrays \u001b[39m\n",
      " \u001b[90m [10745b16]\u001b[39m\u001b[91m - Statistics \u001b[39m\n"
     ]
    }
   ],
   "source": [
    "Pkg.rm(\"DataFrames\")"
   ]
  },
  {
   "cell_type": "code",
   "execution_count": 6,
   "metadata": {},
   "outputs": [
    {
     "ename": "ErrorException",
     "evalue": "could not open file C:\\Users\\Nina\\hello_julia.jl",
     "output_type": "error",
     "traceback": [
      "could not open file C:\\Users\\Nina\\hello_julia.jl",
      "",
      "Stacktrace:",
      " [1] include at .\\boot.jl:328 [inlined]",
      " [2] include_relative(::Module, ::String) at .\\loading.jl:1105",
      " [3] include(::Module, ::String) at .\\Base.jl:31",
      " [4] include(::String) at .\\client.jl:424",
      " [5] top-level scope at In[6]:1"
     ]
    }
   ],
   "source": [
    "include(\"hello_julia.jl\")"
   ]
  },
  {
   "cell_type": "code",
   "execution_count": 7,
   "metadata": {},
   "outputs": [
    {
     "ename": "ErrorException",
     "evalue": "could not open file C:\\Users\\Nina\\hello_julia.jl",
     "output_type": "error",
     "traceback": [
      "could not open file C:\\Users\\Nina\\hello_julia.jl",
      "",
      "Stacktrace:",
      " [1] include at .\\boot.jl:328 [inlined]",
      " [2] include_relative(::Module, ::String) at .\\loading.jl:1105",
      " [3] include(::Module, ::String) at .\\Base.jl:31",
      " [4] include(::String) at .\\client.jl:424",
      " [5] top-level scope at In[7]:1"
     ]
    }
   ],
   "source": [
    "include(\"hello_julia.jl\")"
   ]
  },
  {
   "cell_type": "code",
   "execution_count": 9,
   "metadata": {},
   "outputs": [
    {
     "name": "stdout",
     "output_type": "stream",
     "text": [
      "hello julia\n"
     ]
    }
   ],
   "source": [
    "include(\"hello_julia.jl\")"
   ]
  },
  {
   "cell_type": "code",
   "execution_count": null,
   "metadata": {},
   "outputs": [],
   "source": []
  }
 ],
 "metadata": {
  "kernelspec": {
   "display_name": "Julia 1.3.1",
   "language": "julia",
   "name": "julia-1.3"
  },
  "language_info": {
   "file_extension": ".jl",
   "mimetype": "application/julia",
   "name": "julia",
   "version": "1.3.1"
  }
 },
 "nbformat": 4,
 "nbformat_minor": 4
}
